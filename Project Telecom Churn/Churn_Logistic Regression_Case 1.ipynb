{
 "cells": [
  {
   "cell_type": "code",
   "execution_count": 1,
   "id": "64cf1768",
   "metadata": {},
   "outputs": [],
   "source": [
    "import pandas as pd\n",
    "from sklearn.linear_model import LogisticRegression\n",
    "import warnings\n",
    "warnings.filterwarnings(\"ignore\")"
   ]
  },
  {
   "cell_type": "code",
   "execution_count": 2,
   "id": "9ce0924a",
   "metadata": {},
   "outputs": [
    {
     "data": {
      "text/html": [
       "<div>\n",
       "<style scoped>\n",
       "    .dataframe tbody tr th:only-of-type {\n",
       "        vertical-align: middle;\n",
       "    }\n",
       "\n",
       "    .dataframe tbody tr th {\n",
       "        vertical-align: top;\n",
       "    }\n",
       "\n",
       "    .dataframe thead th {\n",
       "        text-align: right;\n",
       "    }\n",
       "</style>\n",
       "<table border=\"1\" class=\"dataframe\">\n",
       "  <thead>\n",
       "    <tr style=\"text-align: right;\">\n",
       "      <th></th>\n",
       "      <th>account_length</th>\n",
       "      <th>voice_mail_plan</th>\n",
       "      <th>voice_mail_messages</th>\n",
       "      <th>day_mins</th>\n",
       "      <th>evening_mins</th>\n",
       "      <th>night_mins</th>\n",
       "      <th>international_mins</th>\n",
       "      <th>customer_service_calls</th>\n",
       "      <th>international_plan</th>\n",
       "      <th>day_calls</th>\n",
       "      <th>day_charge</th>\n",
       "      <th>evening_calls</th>\n",
       "      <th>evening_charge</th>\n",
       "      <th>night_calls</th>\n",
       "      <th>night_charge</th>\n",
       "      <th>international_calls</th>\n",
       "      <th>international_charge</th>\n",
       "      <th>total_charge</th>\n",
       "      <th>churn</th>\n",
       "    </tr>\n",
       "  </thead>\n",
       "  <tbody>\n",
       "    <tr>\n",
       "      <th>0</th>\n",
       "      <td>128</td>\n",
       "      <td>1</td>\n",
       "      <td>25</td>\n",
       "      <td>265.1</td>\n",
       "      <td>197.4</td>\n",
       "      <td>244.7</td>\n",
       "      <td>10.0</td>\n",
       "      <td>1</td>\n",
       "      <td>0</td>\n",
       "      <td>110</td>\n",
       "      <td>45.07</td>\n",
       "      <td>99</td>\n",
       "      <td>16.78</td>\n",
       "      <td>91</td>\n",
       "      <td>11.01</td>\n",
       "      <td>3</td>\n",
       "      <td>2.70</td>\n",
       "      <td>75.56</td>\n",
       "      <td>0</td>\n",
       "    </tr>\n",
       "    <tr>\n",
       "      <th>1</th>\n",
       "      <td>107</td>\n",
       "      <td>1</td>\n",
       "      <td>26</td>\n",
       "      <td>161.6</td>\n",
       "      <td>195.5</td>\n",
       "      <td>254.4</td>\n",
       "      <td>13.7</td>\n",
       "      <td>1</td>\n",
       "      <td>0</td>\n",
       "      <td>123</td>\n",
       "      <td>27.47</td>\n",
       "      <td>103</td>\n",
       "      <td>16.62</td>\n",
       "      <td>103</td>\n",
       "      <td>11.45</td>\n",
       "      <td>3</td>\n",
       "      <td>3.70</td>\n",
       "      <td>59.24</td>\n",
       "      <td>0</td>\n",
       "    </tr>\n",
       "    <tr>\n",
       "      <th>2</th>\n",
       "      <td>137</td>\n",
       "      <td>0</td>\n",
       "      <td>0</td>\n",
       "      <td>243.4</td>\n",
       "      <td>121.2</td>\n",
       "      <td>162.6</td>\n",
       "      <td>12.2</td>\n",
       "      <td>0</td>\n",
       "      <td>0</td>\n",
       "      <td>114</td>\n",
       "      <td>41.38</td>\n",
       "      <td>110</td>\n",
       "      <td>10.30</td>\n",
       "      <td>104</td>\n",
       "      <td>7.32</td>\n",
       "      <td>5</td>\n",
       "      <td>3.29</td>\n",
       "      <td>62.29</td>\n",
       "      <td>0</td>\n",
       "    </tr>\n",
       "    <tr>\n",
       "      <th>3</th>\n",
       "      <td>84</td>\n",
       "      <td>0</td>\n",
       "      <td>0</td>\n",
       "      <td>299.4</td>\n",
       "      <td>61.9</td>\n",
       "      <td>196.9</td>\n",
       "      <td>6.6</td>\n",
       "      <td>2</td>\n",
       "      <td>1</td>\n",
       "      <td>71</td>\n",
       "      <td>50.90</td>\n",
       "      <td>88</td>\n",
       "      <td>5.26</td>\n",
       "      <td>89</td>\n",
       "      <td>8.86</td>\n",
       "      <td>7</td>\n",
       "      <td>1.78</td>\n",
       "      <td>66.80</td>\n",
       "      <td>0</td>\n",
       "    </tr>\n",
       "    <tr>\n",
       "      <th>4</th>\n",
       "      <td>75</td>\n",
       "      <td>0</td>\n",
       "      <td>0</td>\n",
       "      <td>166.7</td>\n",
       "      <td>148.3</td>\n",
       "      <td>186.9</td>\n",
       "      <td>10.1</td>\n",
       "      <td>3</td>\n",
       "      <td>1</td>\n",
       "      <td>113</td>\n",
       "      <td>28.34</td>\n",
       "      <td>122</td>\n",
       "      <td>12.61</td>\n",
       "      <td>121</td>\n",
       "      <td>8.41</td>\n",
       "      <td>3</td>\n",
       "      <td>2.73</td>\n",
       "      <td>52.09</td>\n",
       "      <td>0</td>\n",
       "    </tr>\n",
       "    <tr>\n",
       "      <th>...</th>\n",
       "      <td>...</td>\n",
       "      <td>...</td>\n",
       "      <td>...</td>\n",
       "      <td>...</td>\n",
       "      <td>...</td>\n",
       "      <td>...</td>\n",
       "      <td>...</td>\n",
       "      <td>...</td>\n",
       "      <td>...</td>\n",
       "      <td>...</td>\n",
       "      <td>...</td>\n",
       "      <td>...</td>\n",
       "      <td>...</td>\n",
       "      <td>...</td>\n",
       "      <td>...</td>\n",
       "      <td>...</td>\n",
       "      <td>...</td>\n",
       "      <td>...</td>\n",
       "      <td>...</td>\n",
       "    </tr>\n",
       "    <tr>\n",
       "      <th>3328</th>\n",
       "      <td>192</td>\n",
       "      <td>1</td>\n",
       "      <td>36</td>\n",
       "      <td>156.2</td>\n",
       "      <td>215.5</td>\n",
       "      <td>279.1</td>\n",
       "      <td>9.9</td>\n",
       "      <td>2</td>\n",
       "      <td>0</td>\n",
       "      <td>77</td>\n",
       "      <td>26.55</td>\n",
       "      <td>126</td>\n",
       "      <td>18.32</td>\n",
       "      <td>83</td>\n",
       "      <td>12.56</td>\n",
       "      <td>6</td>\n",
       "      <td>2.67</td>\n",
       "      <td>60.10</td>\n",
       "      <td>0</td>\n",
       "    </tr>\n",
       "    <tr>\n",
       "      <th>3329</th>\n",
       "      <td>68</td>\n",
       "      <td>0</td>\n",
       "      <td>0</td>\n",
       "      <td>231.1</td>\n",
       "      <td>153.4</td>\n",
       "      <td>191.3</td>\n",
       "      <td>9.6</td>\n",
       "      <td>3</td>\n",
       "      <td>0</td>\n",
       "      <td>57</td>\n",
       "      <td>39.29</td>\n",
       "      <td>55</td>\n",
       "      <td>13.04</td>\n",
       "      <td>123</td>\n",
       "      <td>8.61</td>\n",
       "      <td>4</td>\n",
       "      <td>2.59</td>\n",
       "      <td>63.53</td>\n",
       "      <td>0</td>\n",
       "    </tr>\n",
       "    <tr>\n",
       "      <th>3330</th>\n",
       "      <td>28</td>\n",
       "      <td>0</td>\n",
       "      <td>0</td>\n",
       "      <td>180.8</td>\n",
       "      <td>288.8</td>\n",
       "      <td>191.9</td>\n",
       "      <td>14.1</td>\n",
       "      <td>2</td>\n",
       "      <td>0</td>\n",
       "      <td>109</td>\n",
       "      <td>30.74</td>\n",
       "      <td>58</td>\n",
       "      <td>24.55</td>\n",
       "      <td>91</td>\n",
       "      <td>8.64</td>\n",
       "      <td>6</td>\n",
       "      <td>3.81</td>\n",
       "      <td>67.74</td>\n",
       "      <td>0</td>\n",
       "    </tr>\n",
       "    <tr>\n",
       "      <th>3331</th>\n",
       "      <td>184</td>\n",
       "      <td>0</td>\n",
       "      <td>0</td>\n",
       "      <td>213.8</td>\n",
       "      <td>159.6</td>\n",
       "      <td>139.2</td>\n",
       "      <td>5.0</td>\n",
       "      <td>2</td>\n",
       "      <td>1</td>\n",
       "      <td>105</td>\n",
       "      <td>36.35</td>\n",
       "      <td>84</td>\n",
       "      <td>13.57</td>\n",
       "      <td>137</td>\n",
       "      <td>6.26</td>\n",
       "      <td>10</td>\n",
       "      <td>1.35</td>\n",
       "      <td>57.53</td>\n",
       "      <td>0</td>\n",
       "    </tr>\n",
       "    <tr>\n",
       "      <th>3332</th>\n",
       "      <td>74</td>\n",
       "      <td>1</td>\n",
       "      <td>25</td>\n",
       "      <td>234.4</td>\n",
       "      <td>265.9</td>\n",
       "      <td>241.4</td>\n",
       "      <td>13.7</td>\n",
       "      <td>0</td>\n",
       "      <td>0</td>\n",
       "      <td>113</td>\n",
       "      <td>39.85</td>\n",
       "      <td>82</td>\n",
       "      <td>22.60</td>\n",
       "      <td>77</td>\n",
       "      <td>10.86</td>\n",
       "      <td>4</td>\n",
       "      <td>3.70</td>\n",
       "      <td>77.01</td>\n",
       "      <td>0</td>\n",
       "    </tr>\n",
       "  </tbody>\n",
       "</table>\n",
       "<p>3333 rows × 19 columns</p>\n",
       "</div>"
      ],
      "text/plain": [
       "      account_length  voice_mail_plan  voice_mail_messages  day_mins  \\\n",
       "0                128                1                   25     265.1   \n",
       "1                107                1                   26     161.6   \n",
       "2                137                0                    0     243.4   \n",
       "3                 84                0                    0     299.4   \n",
       "4                 75                0                    0     166.7   \n",
       "...              ...              ...                  ...       ...   \n",
       "3328             192                1                   36     156.2   \n",
       "3329              68                0                    0     231.1   \n",
       "3330              28                0                    0     180.8   \n",
       "3331             184                0                    0     213.8   \n",
       "3332              74                1                   25     234.4   \n",
       "\n",
       "      evening_mins  night_mins  international_mins  customer_service_calls  \\\n",
       "0            197.4       244.7                10.0                       1   \n",
       "1            195.5       254.4                13.7                       1   \n",
       "2            121.2       162.6                12.2                       0   \n",
       "3             61.9       196.9                 6.6                       2   \n",
       "4            148.3       186.9                10.1                       3   \n",
       "...            ...         ...                 ...                     ...   \n",
       "3328         215.5       279.1                 9.9                       2   \n",
       "3329         153.4       191.3                 9.6                       3   \n",
       "3330         288.8       191.9                14.1                       2   \n",
       "3331         159.6       139.2                 5.0                       2   \n",
       "3332         265.9       241.4                13.7                       0   \n",
       "\n",
       "      international_plan  day_calls  day_charge  evening_calls  \\\n",
       "0                      0        110       45.07             99   \n",
       "1                      0        123       27.47            103   \n",
       "2                      0        114       41.38            110   \n",
       "3                      1         71       50.90             88   \n",
       "4                      1        113       28.34            122   \n",
       "...                  ...        ...         ...            ...   \n",
       "3328                   0         77       26.55            126   \n",
       "3329                   0         57       39.29             55   \n",
       "3330                   0        109       30.74             58   \n",
       "3331                   1        105       36.35             84   \n",
       "3332                   0        113       39.85             82   \n",
       "\n",
       "      evening_charge  night_calls  night_charge  international_calls  \\\n",
       "0              16.78           91         11.01                    3   \n",
       "1              16.62          103         11.45                    3   \n",
       "2              10.30          104          7.32                    5   \n",
       "3               5.26           89          8.86                    7   \n",
       "4              12.61          121          8.41                    3   \n",
       "...              ...          ...           ...                  ...   \n",
       "3328           18.32           83         12.56                    6   \n",
       "3329           13.04          123          8.61                    4   \n",
       "3330           24.55           91          8.64                    6   \n",
       "3331           13.57          137          6.26                   10   \n",
       "3332           22.60           77         10.86                    4   \n",
       "\n",
       "      international_charge  total_charge  churn  \n",
       "0                     2.70         75.56      0  \n",
       "1                     3.70         59.24      0  \n",
       "2                     3.29         62.29      0  \n",
       "3                     1.78         66.80      0  \n",
       "4                     2.73         52.09      0  \n",
       "...                    ...           ...    ...  \n",
       "3328                  2.67         60.10      0  \n",
       "3329                  2.59         63.53      0  \n",
       "3330                  3.81         67.74      0  \n",
       "3331                  1.35         57.53      0  \n",
       "3332                  3.70         77.01      0  \n",
       "\n",
       "[3333 rows x 19 columns]"
      ]
     },
     "execution_count": 2,
     "metadata": {},
     "output_type": "execute_result"
    }
   ],
   "source": [
    "df=pd.read_csv(\"C:\\\\Users\\\\zahee\\\\Desktop\\\\Data Science\\\\Project ExcelR\\\\telecommunications_churn.csv\")\n",
    "df"
   ]
  },
  {
   "cell_type": "code",
   "execution_count": 3,
   "id": "2352163a",
   "metadata": {},
   "outputs": [
    {
     "data": {
      "text/html": [
       "<div>\n",
       "<style scoped>\n",
       "    .dataframe tbody tr th:only-of-type {\n",
       "        vertical-align: middle;\n",
       "    }\n",
       "\n",
       "    .dataframe tbody tr th {\n",
       "        vertical-align: top;\n",
       "    }\n",
       "\n",
       "    .dataframe thead th {\n",
       "        text-align: right;\n",
       "    }\n",
       "</style>\n",
       "<table border=\"1\" class=\"dataframe\">\n",
       "  <thead>\n",
       "    <tr style=\"text-align: right;\">\n",
       "      <th></th>\n",
       "      <th>account_length</th>\n",
       "      <th>voice_mail_messages</th>\n",
       "      <th>day_mins</th>\n",
       "      <th>evening_mins</th>\n",
       "      <th>night_mins</th>\n",
       "      <th>international_mins</th>\n",
       "      <th>customer_service_calls</th>\n",
       "      <th>international_plan</th>\n",
       "      <th>day_calls</th>\n",
       "      <th>evening_calls</th>\n",
       "      <th>night_calls</th>\n",
       "      <th>international_calls</th>\n",
       "      <th>total_charge</th>\n",
       "      <th>churn</th>\n",
       "    </tr>\n",
       "  </thead>\n",
       "  <tbody>\n",
       "    <tr>\n",
       "      <th>0</th>\n",
       "      <td>128</td>\n",
       "      <td>25</td>\n",
       "      <td>265.1</td>\n",
       "      <td>197.4</td>\n",
       "      <td>244.7</td>\n",
       "      <td>10.0</td>\n",
       "      <td>1</td>\n",
       "      <td>0</td>\n",
       "      <td>110</td>\n",
       "      <td>99</td>\n",
       "      <td>91</td>\n",
       "      <td>3</td>\n",
       "      <td>75.56</td>\n",
       "      <td>0</td>\n",
       "    </tr>\n",
       "    <tr>\n",
       "      <th>1</th>\n",
       "      <td>107</td>\n",
       "      <td>26</td>\n",
       "      <td>161.6</td>\n",
       "      <td>195.5</td>\n",
       "      <td>254.4</td>\n",
       "      <td>13.7</td>\n",
       "      <td>1</td>\n",
       "      <td>0</td>\n",
       "      <td>123</td>\n",
       "      <td>103</td>\n",
       "      <td>103</td>\n",
       "      <td>3</td>\n",
       "      <td>59.24</td>\n",
       "      <td>0</td>\n",
       "    </tr>\n",
       "    <tr>\n",
       "      <th>2</th>\n",
       "      <td>137</td>\n",
       "      <td>0</td>\n",
       "      <td>243.4</td>\n",
       "      <td>121.2</td>\n",
       "      <td>162.6</td>\n",
       "      <td>12.2</td>\n",
       "      <td>0</td>\n",
       "      <td>0</td>\n",
       "      <td>114</td>\n",
       "      <td>110</td>\n",
       "      <td>104</td>\n",
       "      <td>5</td>\n",
       "      <td>62.29</td>\n",
       "      <td>0</td>\n",
       "    </tr>\n",
       "    <tr>\n",
       "      <th>3</th>\n",
       "      <td>84</td>\n",
       "      <td>0</td>\n",
       "      <td>299.4</td>\n",
       "      <td>61.9</td>\n",
       "      <td>196.9</td>\n",
       "      <td>6.6</td>\n",
       "      <td>2</td>\n",
       "      <td>1</td>\n",
       "      <td>71</td>\n",
       "      <td>88</td>\n",
       "      <td>89</td>\n",
       "      <td>7</td>\n",
       "      <td>66.80</td>\n",
       "      <td>0</td>\n",
       "    </tr>\n",
       "    <tr>\n",
       "      <th>4</th>\n",
       "      <td>75</td>\n",
       "      <td>0</td>\n",
       "      <td>166.7</td>\n",
       "      <td>148.3</td>\n",
       "      <td>186.9</td>\n",
       "      <td>10.1</td>\n",
       "      <td>3</td>\n",
       "      <td>1</td>\n",
       "      <td>113</td>\n",
       "      <td>122</td>\n",
       "      <td>121</td>\n",
       "      <td>3</td>\n",
       "      <td>52.09</td>\n",
       "      <td>0</td>\n",
       "    </tr>\n",
       "    <tr>\n",
       "      <th>...</th>\n",
       "      <td>...</td>\n",
       "      <td>...</td>\n",
       "      <td>...</td>\n",
       "      <td>...</td>\n",
       "      <td>...</td>\n",
       "      <td>...</td>\n",
       "      <td>...</td>\n",
       "      <td>...</td>\n",
       "      <td>...</td>\n",
       "      <td>...</td>\n",
       "      <td>...</td>\n",
       "      <td>...</td>\n",
       "      <td>...</td>\n",
       "      <td>...</td>\n",
       "    </tr>\n",
       "    <tr>\n",
       "      <th>3328</th>\n",
       "      <td>192</td>\n",
       "      <td>36</td>\n",
       "      <td>156.2</td>\n",
       "      <td>215.5</td>\n",
       "      <td>279.1</td>\n",
       "      <td>9.9</td>\n",
       "      <td>2</td>\n",
       "      <td>0</td>\n",
       "      <td>77</td>\n",
       "      <td>126</td>\n",
       "      <td>83</td>\n",
       "      <td>6</td>\n",
       "      <td>60.10</td>\n",
       "      <td>0</td>\n",
       "    </tr>\n",
       "    <tr>\n",
       "      <th>3329</th>\n",
       "      <td>68</td>\n",
       "      <td>0</td>\n",
       "      <td>231.1</td>\n",
       "      <td>153.4</td>\n",
       "      <td>191.3</td>\n",
       "      <td>9.6</td>\n",
       "      <td>3</td>\n",
       "      <td>0</td>\n",
       "      <td>57</td>\n",
       "      <td>55</td>\n",
       "      <td>123</td>\n",
       "      <td>4</td>\n",
       "      <td>63.53</td>\n",
       "      <td>0</td>\n",
       "    </tr>\n",
       "    <tr>\n",
       "      <th>3330</th>\n",
       "      <td>28</td>\n",
       "      <td>0</td>\n",
       "      <td>180.8</td>\n",
       "      <td>288.8</td>\n",
       "      <td>191.9</td>\n",
       "      <td>14.1</td>\n",
       "      <td>2</td>\n",
       "      <td>0</td>\n",
       "      <td>109</td>\n",
       "      <td>58</td>\n",
       "      <td>91</td>\n",
       "      <td>6</td>\n",
       "      <td>67.74</td>\n",
       "      <td>0</td>\n",
       "    </tr>\n",
       "    <tr>\n",
       "      <th>3331</th>\n",
       "      <td>184</td>\n",
       "      <td>0</td>\n",
       "      <td>213.8</td>\n",
       "      <td>159.6</td>\n",
       "      <td>139.2</td>\n",
       "      <td>5.0</td>\n",
       "      <td>2</td>\n",
       "      <td>1</td>\n",
       "      <td>105</td>\n",
       "      <td>84</td>\n",
       "      <td>137</td>\n",
       "      <td>10</td>\n",
       "      <td>57.53</td>\n",
       "      <td>0</td>\n",
       "    </tr>\n",
       "    <tr>\n",
       "      <th>3332</th>\n",
       "      <td>74</td>\n",
       "      <td>25</td>\n",
       "      <td>234.4</td>\n",
       "      <td>265.9</td>\n",
       "      <td>241.4</td>\n",
       "      <td>13.7</td>\n",
       "      <td>0</td>\n",
       "      <td>0</td>\n",
       "      <td>113</td>\n",
       "      <td>82</td>\n",
       "      <td>77</td>\n",
       "      <td>4</td>\n",
       "      <td>77.01</td>\n",
       "      <td>0</td>\n",
       "    </tr>\n",
       "  </tbody>\n",
       "</table>\n",
       "<p>3333 rows × 14 columns</p>\n",
       "</div>"
      ],
      "text/plain": [
       "      account_length  voice_mail_messages  day_mins  evening_mins  night_mins  \\\n",
       "0                128                   25     265.1         197.4       244.7   \n",
       "1                107                   26     161.6         195.5       254.4   \n",
       "2                137                    0     243.4         121.2       162.6   \n",
       "3                 84                    0     299.4          61.9       196.9   \n",
       "4                 75                    0     166.7         148.3       186.9   \n",
       "...              ...                  ...       ...           ...         ...   \n",
       "3328             192                   36     156.2         215.5       279.1   \n",
       "3329              68                    0     231.1         153.4       191.3   \n",
       "3330              28                    0     180.8         288.8       191.9   \n",
       "3331             184                    0     213.8         159.6       139.2   \n",
       "3332              74                   25     234.4         265.9       241.4   \n",
       "\n",
       "      international_mins  customer_service_calls  international_plan  \\\n",
       "0                   10.0                       1                   0   \n",
       "1                   13.7                       1                   0   \n",
       "2                   12.2                       0                   0   \n",
       "3                    6.6                       2                   1   \n",
       "4                   10.1                       3                   1   \n",
       "...                  ...                     ...                 ...   \n",
       "3328                 9.9                       2                   0   \n",
       "3329                 9.6                       3                   0   \n",
       "3330                14.1                       2                   0   \n",
       "3331                 5.0                       2                   1   \n",
       "3332                13.7                       0                   0   \n",
       "\n",
       "      day_calls  evening_calls  night_calls  international_calls  \\\n",
       "0           110             99           91                    3   \n",
       "1           123            103          103                    3   \n",
       "2           114            110          104                    5   \n",
       "3            71             88           89                    7   \n",
       "4           113            122          121                    3   \n",
       "...         ...            ...          ...                  ...   \n",
       "3328         77            126           83                    6   \n",
       "3329         57             55          123                    4   \n",
       "3330        109             58           91                    6   \n",
       "3331        105             84          137                   10   \n",
       "3332        113             82           77                    4   \n",
       "\n",
       "      total_charge  churn  \n",
       "0            75.56      0  \n",
       "1            59.24      0  \n",
       "2            62.29      0  \n",
       "3            66.80      0  \n",
       "4            52.09      0  \n",
       "...            ...    ...  \n",
       "3328         60.10      0  \n",
       "3329         63.53      0  \n",
       "3330         67.74      0  \n",
       "3331         57.53      0  \n",
       "3332         77.01      0  \n",
       "\n",
       "[3333 rows x 14 columns]"
      ]
     },
     "execution_count": 3,
     "metadata": {},
     "output_type": "execute_result"
    }
   ],
   "source": [
    "df.drop(['voice_mail_plan','day_charge','evening_charge','night_charge', 'international_charge'],axis=1, inplace=True)\n",
    "df"
   ]
  },
  {
   "cell_type": "code",
   "execution_count": 4,
   "id": "d28a90f2",
   "metadata": {},
   "outputs": [],
   "source": [
    "X=df.iloc[:,:-1]\n",
    "Y=df.iloc[:,-1]"
   ]
  },
  {
   "cell_type": "code",
   "execution_count": 43,
   "id": "883f8fc0",
   "metadata": {},
   "outputs": [],
   "source": [
    "from sklearn.preprocessing import StandardScaler\n",
    "scale = StandardScaler()\n",
    "N = scale.fit_transform(X)"
   ]
  },
  {
   "cell_type": "code",
   "execution_count": 44,
   "id": "a02fd0ea",
   "metadata": {},
   "outputs": [
    {
     "data": {
      "text/plain": [
       "LogisticRegression()"
      ]
     },
     "execution_count": 44,
     "metadata": {},
     "output_type": "execute_result"
    }
   ],
   "source": [
    "classifier = LogisticRegression()\n",
    "classifier.fit(N,Y)"
   ]
  },
  {
   "cell_type": "code",
   "execution_count": 45,
   "id": "d0137cf1",
   "metadata": {},
   "outputs": [
    {
     "data": {
      "text/plain": [
       "array([[ 0.03293528, -0.37339184,  0.33891507,  0.19252982,  0.09156944,\n",
       "         0.21070367,  0.67347158,  0.59970631,  0.06523553,  0.01952118,\n",
       "         0.00485601, -0.22133926,  0.41286114]])"
      ]
     },
     "execution_count": 45,
     "metadata": {},
     "output_type": "execute_result"
    }
   ],
   "source": [
    "classifier.coef_"
   ]
  },
  {
   "cell_type": "code",
   "execution_count": 46,
   "id": "8efeec60",
   "metadata": {},
   "outputs": [
    {
     "data": {
      "text/plain": [
       "0     0.032935\n",
       "1    -0.373392\n",
       "2     0.338915\n",
       "3     0.192530\n",
       "4     0.091569\n",
       "5     0.210704\n",
       "6     0.673472\n",
       "7     0.599706\n",
       "8     0.065236\n",
       "9     0.019521\n",
       "10    0.004856\n",
       "11   -0.221339\n",
       "12    0.412861\n",
       "dtype: float64"
      ]
     },
     "execution_count": 46,
     "metadata": {},
     "output_type": "execute_result"
    }
   ],
   "source": [
    "beta_coeff= pd.Series(classifier.coef_[0])\n",
    "beta_coeff"
   ]
  },
  {
   "cell_type": "code",
   "execution_count": 47,
   "id": "bd716d5c",
   "metadata": {},
   "outputs": [
    {
     "data": {
      "text/html": [
       "<div>\n",
       "<style scoped>\n",
       "    .dataframe tbody tr th:only-of-type {\n",
       "        vertical-align: middle;\n",
       "    }\n",
       "\n",
       "    .dataframe tbody tr th {\n",
       "        vertical-align: top;\n",
       "    }\n",
       "\n",
       "    .dataframe thead th {\n",
       "        text-align: right;\n",
       "    }\n",
       "</style>\n",
       "<table border=\"1\" class=\"dataframe\">\n",
       "  <thead>\n",
       "    <tr style=\"text-align: right;\">\n",
       "      <th></th>\n",
       "      <th>Variables</th>\n",
       "      <th>beta coeff</th>\n",
       "    </tr>\n",
       "  </thead>\n",
       "  <tbody>\n",
       "    <tr>\n",
       "      <th>0</th>\n",
       "      <td>account_length</td>\n",
       "      <td>0.032935</td>\n",
       "    </tr>\n",
       "    <tr>\n",
       "      <th>1</th>\n",
       "      <td>voice_mail_messages</td>\n",
       "      <td>-0.373392</td>\n",
       "    </tr>\n",
       "    <tr>\n",
       "      <th>2</th>\n",
       "      <td>day_mins</td>\n",
       "      <td>0.338915</td>\n",
       "    </tr>\n",
       "    <tr>\n",
       "      <th>3</th>\n",
       "      <td>evening_mins</td>\n",
       "      <td>0.192530</td>\n",
       "    </tr>\n",
       "    <tr>\n",
       "      <th>4</th>\n",
       "      <td>night_mins</td>\n",
       "      <td>0.091569</td>\n",
       "    </tr>\n",
       "    <tr>\n",
       "      <th>5</th>\n",
       "      <td>international_mins</td>\n",
       "      <td>0.210704</td>\n",
       "    </tr>\n",
       "    <tr>\n",
       "      <th>6</th>\n",
       "      <td>customer_service_calls</td>\n",
       "      <td>0.673472</td>\n",
       "    </tr>\n",
       "    <tr>\n",
       "      <th>7</th>\n",
       "      <td>international_plan</td>\n",
       "      <td>0.599706</td>\n",
       "    </tr>\n",
       "    <tr>\n",
       "      <th>8</th>\n",
       "      <td>day_calls</td>\n",
       "      <td>0.065236</td>\n",
       "    </tr>\n",
       "    <tr>\n",
       "      <th>9</th>\n",
       "      <td>evening_calls</td>\n",
       "      <td>0.019521</td>\n",
       "    </tr>\n",
       "    <tr>\n",
       "      <th>10</th>\n",
       "      <td>night_calls</td>\n",
       "      <td>0.004856</td>\n",
       "    </tr>\n",
       "    <tr>\n",
       "      <th>11</th>\n",
       "      <td>international_calls</td>\n",
       "      <td>-0.221339</td>\n",
       "    </tr>\n",
       "    <tr>\n",
       "      <th>12</th>\n",
       "      <td>total_charge</td>\n",
       "      <td>0.412861</td>\n",
       "    </tr>\n",
       "  </tbody>\n",
       "</table>\n",
       "</div>"
      ],
      "text/plain": [
       "                 Variables  beta coeff\n",
       "0           account_length    0.032935\n",
       "1      voice_mail_messages   -0.373392\n",
       "2                 day_mins    0.338915\n",
       "3             evening_mins    0.192530\n",
       "4               night_mins    0.091569\n",
       "5       international_mins    0.210704\n",
       "6   customer_service_calls    0.673472\n",
       "7       international_plan    0.599706\n",
       "8                day_calls    0.065236\n",
       "9            evening_calls    0.019521\n",
       "10             night_calls    0.004856\n",
       "11     international_calls   -0.221339\n",
       "12            total_charge    0.412861"
      ]
     },
     "execution_count": 47,
     "metadata": {},
     "output_type": "execute_result"
    }
   ],
   "source": [
    "test=X.columns\n",
    "dataframe=pd.DataFrame(test, columns=['Variables'])\n",
    "dataframe['beta coeff']=beta_coeff\n",
    "dataframe"
   ]
  },
  {
   "cell_type": "code",
   "execution_count": 48,
   "id": "048ab403",
   "metadata": {},
   "outputs": [
    {
     "data": {
      "text/plain": [
       "array([[0.86343267, 0.13656733],\n",
       "       [0.94457606, 0.05542394],\n",
       "       [0.93981382, 0.06018618],\n",
       "       ...,\n",
       "       [0.78871132, 0.21128868],\n",
       "       [0.72428348, 0.27571652],\n",
       "       [0.89107469, 0.10892531]])"
      ]
     },
     "execution_count": 48,
     "metadata": {},
     "output_type": "execute_result"
    }
   ],
   "source": [
    "classifier.predict_proba(N)"
   ]
  },
  {
   "cell_type": "code",
   "execution_count": 49,
   "id": "836835d8",
   "metadata": {},
   "outputs": [
    {
     "data": {
      "text/plain": [
       "0.8631863186318632"
      ]
     },
     "execution_count": 49,
     "metadata": {},
     "output_type": "execute_result"
    }
   ],
   "source": [
    "classifier.score(N,Y)"
   ]
  },
  {
   "cell_type": "code",
   "execution_count": 50,
   "id": "f21c5bc3",
   "metadata": {},
   "outputs": [
    {
     "data": {
      "text/plain": [
       "array([0, 0, 0, ..., 0, 0, 0], dtype=int64)"
      ]
     },
     "execution_count": 50,
     "metadata": {},
     "output_type": "execute_result"
    }
   ],
   "source": [
    "y_pred = classifier.predict(N)\n",
    "y_pred"
   ]
  },
  {
   "cell_type": "code",
   "execution_count": 51,
   "id": "78f5545b",
   "metadata": {},
   "outputs": [
    {
     "data": {
      "text/html": [
       "<div>\n",
       "<style scoped>\n",
       "    .dataframe tbody tr th:only-of-type {\n",
       "        vertical-align: middle;\n",
       "    }\n",
       "\n",
       "    .dataframe tbody tr th {\n",
       "        vertical-align: top;\n",
       "    }\n",
       "\n",
       "    .dataframe thead th {\n",
       "        text-align: right;\n",
       "    }\n",
       "</style>\n",
       "<table border=\"1\" class=\"dataframe\">\n",
       "  <thead>\n",
       "    <tr style=\"text-align: right;\">\n",
       "      <th></th>\n",
       "      <th>Actual</th>\n",
       "      <th>Predicted</th>\n",
       "    </tr>\n",
       "  </thead>\n",
       "  <tbody>\n",
       "    <tr>\n",
       "      <th>0</th>\n",
       "      <td>0</td>\n",
       "      <td>0</td>\n",
       "    </tr>\n",
       "    <tr>\n",
       "      <th>1</th>\n",
       "      <td>0</td>\n",
       "      <td>0</td>\n",
       "    </tr>\n",
       "    <tr>\n",
       "      <th>2</th>\n",
       "      <td>0</td>\n",
       "      <td>0</td>\n",
       "    </tr>\n",
       "    <tr>\n",
       "      <th>3</th>\n",
       "      <td>0</td>\n",
       "      <td>0</td>\n",
       "    </tr>\n",
       "    <tr>\n",
       "      <th>4</th>\n",
       "      <td>0</td>\n",
       "      <td>1</td>\n",
       "    </tr>\n",
       "    <tr>\n",
       "      <th>...</th>\n",
       "      <td>...</td>\n",
       "      <td>...</td>\n",
       "    </tr>\n",
       "    <tr>\n",
       "      <th>3328</th>\n",
       "      <td>0</td>\n",
       "      <td>0</td>\n",
       "    </tr>\n",
       "    <tr>\n",
       "      <th>3329</th>\n",
       "      <td>0</td>\n",
       "      <td>0</td>\n",
       "    </tr>\n",
       "    <tr>\n",
       "      <th>3330</th>\n",
       "      <td>0</td>\n",
       "      <td>0</td>\n",
       "    </tr>\n",
       "    <tr>\n",
       "      <th>3331</th>\n",
       "      <td>0</td>\n",
       "      <td>0</td>\n",
       "    </tr>\n",
       "    <tr>\n",
       "      <th>3332</th>\n",
       "      <td>0</td>\n",
       "      <td>0</td>\n",
       "    </tr>\n",
       "  </tbody>\n",
       "</table>\n",
       "<p>3333 rows × 2 columns</p>\n",
       "</div>"
      ],
      "text/plain": [
       "      Actual  Predicted\n",
       "0          0          0\n",
       "1          0          0\n",
       "2          0          0\n",
       "3          0          0\n",
       "4          0          1\n",
       "...      ...        ...\n",
       "3328       0          0\n",
       "3329       0          0\n",
       "3330       0          0\n",
       "3331       0          0\n",
       "3332       0          0\n",
       "\n",
       "[3333 rows x 2 columns]"
      ]
     },
     "execution_count": 51,
     "metadata": {},
     "output_type": "execute_result"
    }
   ],
   "source": [
    "table=pd.DataFrame({'Actual': Y,'Predicted':y_pred})\n",
    "table"
   ]
  },
  {
   "cell_type": "code",
   "execution_count": 52,
   "id": "f5e678f8",
   "metadata": {},
   "outputs": [
    {
     "data": {
      "text/plain": [
       "array([[2773,   77],\n",
       "       [ 379,  104]], dtype=int64)"
      ]
     },
     "execution_count": 52,
     "metadata": {},
     "output_type": "execute_result"
    }
   ],
   "source": [
    "from sklearn.metrics import confusion_matrix\n",
    "cm=confusion_matrix(Y,y_pred)\n",
    "cm"
   ]
  },
  {
   "cell_type": "markdown",
   "id": "a9110b4f",
   "metadata": {},
   "source": [
    "### Thus we see that due to the class imbalance, model is not able to predict '1' outcome as False Negatives are 379 out of total 483 1's in the dataset. Hence, we will need to resample the classes."
   ]
  },
  {
   "cell_type": "markdown",
   "id": "a4aed1ba",
   "metadata": {},
   "source": [
    "# Downsampling majority class"
   ]
  },
  {
   "cell_type": "code",
   "execution_count": 19,
   "id": "0390ad5a",
   "metadata": {},
   "outputs": [],
   "source": [
    "from sklearn.utils import resample\n",
    "df_majority = df[df['churn']==0]\n",
    "df_minority = df[df['churn']==1]"
   ]
  },
  {
   "cell_type": "code",
   "execution_count": 18,
   "id": "2dde38d5",
   "metadata": {},
   "outputs": [
    {
     "data": {
      "text/html": [
       "<div>\n",
       "<style scoped>\n",
       "    .dataframe tbody tr th:only-of-type {\n",
       "        vertical-align: middle;\n",
       "    }\n",
       "\n",
       "    .dataframe tbody tr th {\n",
       "        vertical-align: top;\n",
       "    }\n",
       "\n",
       "    .dataframe thead th {\n",
       "        text-align: right;\n",
       "    }\n",
       "</style>\n",
       "<table border=\"1\" class=\"dataframe\">\n",
       "  <thead>\n",
       "    <tr style=\"text-align: right;\">\n",
       "      <th></th>\n",
       "      <th>account_length</th>\n",
       "      <th>voice_mail_messages</th>\n",
       "      <th>day_mins</th>\n",
       "      <th>evening_mins</th>\n",
       "      <th>night_mins</th>\n",
       "      <th>international_mins</th>\n",
       "      <th>customer_service_calls</th>\n",
       "      <th>international_plan</th>\n",
       "      <th>day_calls</th>\n",
       "      <th>evening_calls</th>\n",
       "      <th>night_calls</th>\n",
       "      <th>international_calls</th>\n",
       "      <th>total_charge</th>\n",
       "      <th>churn</th>\n",
       "    </tr>\n",
       "  </thead>\n",
       "  <tbody>\n",
       "    <tr>\n",
       "      <th>2192</th>\n",
       "      <td>78</td>\n",
       "      <td>0</td>\n",
       "      <td>152.9</td>\n",
       "      <td>256.6</td>\n",
       "      <td>173.6</td>\n",
       "      <td>5.3</td>\n",
       "      <td>2</td>\n",
       "      <td>0</td>\n",
       "      <td>81</td>\n",
       "      <td>82</td>\n",
       "      <td>112</td>\n",
       "      <td>6</td>\n",
       "      <td>57.04</td>\n",
       "      <td>0</td>\n",
       "    </tr>\n",
       "    <tr>\n",
       "      <th>1744</th>\n",
       "      <td>120</td>\n",
       "      <td>26</td>\n",
       "      <td>239.4</td>\n",
       "      <td>259.4</td>\n",
       "      <td>238.0</td>\n",
       "      <td>7.7</td>\n",
       "      <td>0</td>\n",
       "      <td>0</td>\n",
       "      <td>94</td>\n",
       "      <td>88</td>\n",
       "      <td>132</td>\n",
       "      <td>3</td>\n",
       "      <td>75.54</td>\n",
       "      <td>0</td>\n",
       "    </tr>\n",
       "    <tr>\n",
       "      <th>3248</th>\n",
       "      <td>93</td>\n",
       "      <td>0</td>\n",
       "      <td>146.3</td>\n",
       "      <td>216.6</td>\n",
       "      <td>233.0</td>\n",
       "      <td>11.5</td>\n",
       "      <td>0</td>\n",
       "      <td>0</td>\n",
       "      <td>85</td>\n",
       "      <td>95</td>\n",
       "      <td>82</td>\n",
       "      <td>3</td>\n",
       "      <td>56.88</td>\n",
       "      <td>0</td>\n",
       "    </tr>\n",
       "    <tr>\n",
       "      <th>294</th>\n",
       "      <td>96</td>\n",
       "      <td>18</td>\n",
       "      <td>172.7</td>\n",
       "      <td>133.4</td>\n",
       "      <td>259.5</td>\n",
       "      <td>9.8</td>\n",
       "      <td>1</td>\n",
       "      <td>0</td>\n",
       "      <td>86</td>\n",
       "      <td>113</td>\n",
       "      <td>70</td>\n",
       "      <td>3</td>\n",
       "      <td>55.03</td>\n",
       "      <td>0</td>\n",
       "    </tr>\n",
       "    <tr>\n",
       "      <th>2675</th>\n",
       "      <td>60</td>\n",
       "      <td>0</td>\n",
       "      <td>207.8</td>\n",
       "      <td>123.5</td>\n",
       "      <td>291.6</td>\n",
       "      <td>5.7</td>\n",
       "      <td>0</td>\n",
       "      <td>0</td>\n",
       "      <td>109</td>\n",
       "      <td>112</td>\n",
       "      <td>115</td>\n",
       "      <td>9</td>\n",
       "      <td>60.49</td>\n",
       "      <td>0</td>\n",
       "    </tr>\n",
       "    <tr>\n",
       "      <th>...</th>\n",
       "      <td>...</td>\n",
       "      <td>...</td>\n",
       "      <td>...</td>\n",
       "      <td>...</td>\n",
       "      <td>...</td>\n",
       "      <td>...</td>\n",
       "      <td>...</td>\n",
       "      <td>...</td>\n",
       "      <td>...</td>\n",
       "      <td>...</td>\n",
       "      <td>...</td>\n",
       "      <td>...</td>\n",
       "      <td>...</td>\n",
       "      <td>...</td>\n",
       "    </tr>\n",
       "    <tr>\n",
       "      <th>200</th>\n",
       "      <td>53</td>\n",
       "      <td>24</td>\n",
       "      <td>145.7</td>\n",
       "      <td>220.5</td>\n",
       "      <td>249.9</td>\n",
       "      <td>13.1</td>\n",
       "      <td>3</td>\n",
       "      <td>0</td>\n",
       "      <td>146</td>\n",
       "      <td>136</td>\n",
       "      <td>96</td>\n",
       "      <td>5</td>\n",
       "      <td>58.30</td>\n",
       "      <td>0</td>\n",
       "    </tr>\n",
       "    <tr>\n",
       "      <th>887</th>\n",
       "      <td>128</td>\n",
       "      <td>0</td>\n",
       "      <td>158.8</td>\n",
       "      <td>264.8</td>\n",
       "      <td>270.0</td>\n",
       "      <td>7.6</td>\n",
       "      <td>1</td>\n",
       "      <td>0</td>\n",
       "      <td>75</td>\n",
       "      <td>91</td>\n",
       "      <td>77</td>\n",
       "      <td>7</td>\n",
       "      <td>63.71</td>\n",
       "      <td>0</td>\n",
       "    </tr>\n",
       "    <tr>\n",
       "      <th>1243</th>\n",
       "      <td>116</td>\n",
       "      <td>35</td>\n",
       "      <td>182.8</td>\n",
       "      <td>212.7</td>\n",
       "      <td>193.8</td>\n",
       "      <td>11.0</td>\n",
       "      <td>1</td>\n",
       "      <td>0</td>\n",
       "      <td>122</td>\n",
       "      <td>119</td>\n",
       "      <td>103</td>\n",
       "      <td>2</td>\n",
       "      <td>60.85</td>\n",
       "      <td>0</td>\n",
       "    </tr>\n",
       "    <tr>\n",
       "      <th>2454</th>\n",
       "      <td>45</td>\n",
       "      <td>0</td>\n",
       "      <td>96.1</td>\n",
       "      <td>246.8</td>\n",
       "      <td>229.7</td>\n",
       "      <td>9.7</td>\n",
       "      <td>1</td>\n",
       "      <td>0</td>\n",
       "      <td>103</td>\n",
       "      <td>134</td>\n",
       "      <td>92</td>\n",
       "      <td>4</td>\n",
       "      <td>50.28</td>\n",
       "      <td>0</td>\n",
       "    </tr>\n",
       "    <tr>\n",
       "      <th>1826</th>\n",
       "      <td>102</td>\n",
       "      <td>0</td>\n",
       "      <td>200.6</td>\n",
       "      <td>152.5</td>\n",
       "      <td>199.4</td>\n",
       "      <td>7.7</td>\n",
       "      <td>3</td>\n",
       "      <td>0</td>\n",
       "      <td>106</td>\n",
       "      <td>127</td>\n",
       "      <td>128</td>\n",
       "      <td>2</td>\n",
       "      <td>58.11</td>\n",
       "      <td>0</td>\n",
       "    </tr>\n",
       "  </tbody>\n",
       "</table>\n",
       "<p>483 rows × 14 columns</p>\n",
       "</div>"
      ],
      "text/plain": [
       "      account_length  voice_mail_messages  day_mins  evening_mins  night_mins  \\\n",
       "2192              78                    0     152.9         256.6       173.6   \n",
       "1744             120                   26     239.4         259.4       238.0   \n",
       "3248              93                    0     146.3         216.6       233.0   \n",
       "294               96                   18     172.7         133.4       259.5   \n",
       "2675              60                    0     207.8         123.5       291.6   \n",
       "...              ...                  ...       ...           ...         ...   \n",
       "200               53                   24     145.7         220.5       249.9   \n",
       "887              128                    0     158.8         264.8       270.0   \n",
       "1243             116                   35     182.8         212.7       193.8   \n",
       "2454              45                    0      96.1         246.8       229.7   \n",
       "1826             102                    0     200.6         152.5       199.4   \n",
       "\n",
       "      international_mins  customer_service_calls  international_plan  \\\n",
       "2192                 5.3                       2                   0   \n",
       "1744                 7.7                       0                   0   \n",
       "3248                11.5                       0                   0   \n",
       "294                  9.8                       1                   0   \n",
       "2675                 5.7                       0                   0   \n",
       "...                  ...                     ...                 ...   \n",
       "200                 13.1                       3                   0   \n",
       "887                  7.6                       1                   0   \n",
       "1243                11.0                       1                   0   \n",
       "2454                 9.7                       1                   0   \n",
       "1826                 7.7                       3                   0   \n",
       "\n",
       "      day_calls  evening_calls  night_calls  international_calls  \\\n",
       "2192         81             82          112                    6   \n",
       "1744         94             88          132                    3   \n",
       "3248         85             95           82                    3   \n",
       "294          86            113           70                    3   \n",
       "2675        109            112          115                    9   \n",
       "...         ...            ...          ...                  ...   \n",
       "200         146            136           96                    5   \n",
       "887          75             91           77                    7   \n",
       "1243        122            119          103                    2   \n",
       "2454        103            134           92                    4   \n",
       "1826        106            127          128                    2   \n",
       "\n",
       "      total_charge  churn  \n",
       "2192         57.04      0  \n",
       "1744         75.54      0  \n",
       "3248         56.88      0  \n",
       "294          55.03      0  \n",
       "2675         60.49      0  \n",
       "...            ...    ...  \n",
       "200          58.30      0  \n",
       "887          63.71      0  \n",
       "1243         60.85      0  \n",
       "2454         50.28      0  \n",
       "1826         58.11      0  \n",
       "\n",
       "[483 rows x 14 columns]"
      ]
     },
     "execution_count": 18,
     "metadata": {},
     "output_type": "execute_result"
    }
   ],
   "source": [
    "df_majority_downsample = resample(df_majority,random_state=123,n_samples=483, replace=False)\n",
    "df_majority_downsample"
   ]
  },
  {
   "cell_type": "code",
   "execution_count": 20,
   "id": "496feed2",
   "metadata": {},
   "outputs": [],
   "source": [
    "df_downsample = pd.concat([df_majority_downsample,df_minority])"
   ]
  },
  {
   "cell_type": "code",
   "execution_count": 21,
   "id": "731cbcb8",
   "metadata": {},
   "outputs": [
    {
     "data": {
      "text/plain": [
       "0    483\n",
       "1    483\n",
       "Name: churn, dtype: int64"
      ]
     },
     "execution_count": 21,
     "metadata": {},
     "output_type": "execute_result"
    }
   ],
   "source": [
    "df_downsample['churn'].value_counts()"
   ]
  },
  {
   "cell_type": "code",
   "execution_count": 34,
   "id": "593fe858",
   "metadata": {},
   "outputs": [
    {
     "data": {
      "text/plain": [
       "LogisticRegression()"
      ]
     },
     "execution_count": 34,
     "metadata": {},
     "output_type": "execute_result"
    }
   ],
   "source": [
    "from sklearn.preprocessing import StandardScaler\n",
    "a=df_downsample.iloc[:,:-1]\n",
    "b=df_downsample.iloc[:,-1]\n",
    "scale=StandardScaler()\n",
    "A= scale.fit_transform(a)\n",
    "clf=LogisticRegression()\n",
    "clf.fit(A,b)"
   ]
  },
  {
   "cell_type": "code",
   "execution_count": 35,
   "id": "5952141c",
   "metadata": {},
   "outputs": [
    {
     "data": {
      "text/plain": [
       "array([[-0.02680708, -0.2935281 ,  0.43756654,  0.09760918,  0.03437826,\n",
       "         0.19683474,  0.93686432,  0.77144473,  0.09525284,  0.03081142,\n",
       "        -0.01897614, -0.15167347,  0.42735279]])"
      ]
     },
     "execution_count": 35,
     "metadata": {},
     "output_type": "execute_result"
    }
   ],
   "source": [
    "clf.coef_"
   ]
  },
  {
   "cell_type": "code",
   "execution_count": 36,
   "id": "c3b0bcff",
   "metadata": {},
   "outputs": [
    {
     "data": {
      "text/plain": [
       "0    -0.026807\n",
       "1    -0.293528\n",
       "2     0.437567\n",
       "3     0.097609\n",
       "4     0.034378\n",
       "5     0.196835\n",
       "6     0.936864\n",
       "7     0.771445\n",
       "8     0.095253\n",
       "9     0.030811\n",
       "10   -0.018976\n",
       "11   -0.151673\n",
       "12    0.427353\n",
       "dtype: float64"
      ]
     },
     "execution_count": 36,
     "metadata": {},
     "output_type": "execute_result"
    }
   ],
   "source": [
    "beta_coef = pd.Series(clf.coef_[0])\n",
    "beta_coef"
   ]
  },
  {
   "cell_type": "code",
   "execution_count": 37,
   "id": "a0c338d2",
   "metadata": {},
   "outputs": [
    {
     "data": {
      "text/html": [
       "<div>\n",
       "<style scoped>\n",
       "    .dataframe tbody tr th:only-of-type {\n",
       "        vertical-align: middle;\n",
       "    }\n",
       "\n",
       "    .dataframe tbody tr th {\n",
       "        vertical-align: top;\n",
       "    }\n",
       "\n",
       "    .dataframe thead th {\n",
       "        text-align: right;\n",
       "    }\n",
       "</style>\n",
       "<table border=\"1\" class=\"dataframe\">\n",
       "  <thead>\n",
       "    <tr style=\"text-align: right;\">\n",
       "      <th></th>\n",
       "      <th>Variables</th>\n",
       "      <th>beta values</th>\n",
       "    </tr>\n",
       "  </thead>\n",
       "  <tbody>\n",
       "    <tr>\n",
       "      <th>0</th>\n",
       "      <td>account_length</td>\n",
       "      <td>-0.026807</td>\n",
       "    </tr>\n",
       "    <tr>\n",
       "      <th>1</th>\n",
       "      <td>voice_mail_messages</td>\n",
       "      <td>-0.293528</td>\n",
       "    </tr>\n",
       "    <tr>\n",
       "      <th>2</th>\n",
       "      <td>day_mins</td>\n",
       "      <td>0.437567</td>\n",
       "    </tr>\n",
       "    <tr>\n",
       "      <th>3</th>\n",
       "      <td>evening_mins</td>\n",
       "      <td>0.097609</td>\n",
       "    </tr>\n",
       "    <tr>\n",
       "      <th>4</th>\n",
       "      <td>night_mins</td>\n",
       "      <td>0.034378</td>\n",
       "    </tr>\n",
       "    <tr>\n",
       "      <th>5</th>\n",
       "      <td>international_mins</td>\n",
       "      <td>0.196835</td>\n",
       "    </tr>\n",
       "    <tr>\n",
       "      <th>6</th>\n",
       "      <td>customer_service_calls</td>\n",
       "      <td>0.936864</td>\n",
       "    </tr>\n",
       "    <tr>\n",
       "      <th>7</th>\n",
       "      <td>international_plan</td>\n",
       "      <td>0.771445</td>\n",
       "    </tr>\n",
       "    <tr>\n",
       "      <th>8</th>\n",
       "      <td>day_calls</td>\n",
       "      <td>0.095253</td>\n",
       "    </tr>\n",
       "    <tr>\n",
       "      <th>9</th>\n",
       "      <td>evening_calls</td>\n",
       "      <td>0.030811</td>\n",
       "    </tr>\n",
       "    <tr>\n",
       "      <th>10</th>\n",
       "      <td>night_calls</td>\n",
       "      <td>-0.018976</td>\n",
       "    </tr>\n",
       "    <tr>\n",
       "      <th>11</th>\n",
       "      <td>international_calls</td>\n",
       "      <td>-0.151673</td>\n",
       "    </tr>\n",
       "    <tr>\n",
       "      <th>12</th>\n",
       "      <td>total_charge</td>\n",
       "      <td>0.427353</td>\n",
       "    </tr>\n",
       "  </tbody>\n",
       "</table>\n",
       "</div>"
      ],
      "text/plain": [
       "                 Variables  beta values\n",
       "0           account_length    -0.026807\n",
       "1      voice_mail_messages    -0.293528\n",
       "2                 day_mins     0.437567\n",
       "3             evening_mins     0.097609\n",
       "4               night_mins     0.034378\n",
       "5       international_mins     0.196835\n",
       "6   customer_service_calls     0.936864\n",
       "7       international_plan     0.771445\n",
       "8                day_calls     0.095253\n",
       "9            evening_calls     0.030811\n",
       "10             night_calls    -0.018976\n",
       "11     international_calls    -0.151673\n",
       "12            total_charge     0.427353"
      ]
     },
     "execution_count": 37,
     "metadata": {},
     "output_type": "execute_result"
    }
   ],
   "source": [
    "test1=x.columns\n",
    "frame=pd.DataFrame(test1,columns=['Variables'])\n",
    "frame['beta values']= beta_coef\n",
    "frame"
   ]
  },
  {
   "cell_type": "code",
   "execution_count": 39,
   "id": "395b058d",
   "metadata": {},
   "outputs": [
    {
     "data": {
      "text/plain": [
       "0.7443064182194618"
      ]
     },
     "execution_count": 39,
     "metadata": {},
     "output_type": "execute_result"
    }
   ],
   "source": [
    "clf.score(A,b)"
   ]
  },
  {
   "cell_type": "markdown",
   "id": "53558aea",
   "metadata": {},
   "source": [
    "# Upsampling minority class"
   ]
  },
  {
   "cell_type": "code",
   "execution_count": 27,
   "id": "c92249f1",
   "metadata": {},
   "outputs": [],
   "source": [
    "df_minority_upsample = resample(df_minority, replace=True, n_samples=2850,random_state=123)"
   ]
  },
  {
   "cell_type": "code",
   "execution_count": 28,
   "id": "a0a954fa",
   "metadata": {},
   "outputs": [],
   "source": [
    "df_upsample = pd.concat([df_minority_upsample,df_majority])"
   ]
  },
  {
   "cell_type": "code",
   "execution_count": 30,
   "id": "fe140d32",
   "metadata": {},
   "outputs": [
    {
     "data": {
      "text/plain": [
       "1    2850\n",
       "0    2850\n",
       "Name: churn, dtype: int64"
      ]
     },
     "execution_count": 30,
     "metadata": {},
     "output_type": "execute_result"
    }
   ],
   "source": [
    "df_upsample['churn'].value_counts()"
   ]
  },
  {
   "cell_type": "code",
   "execution_count": 40,
   "id": "6a5ed108",
   "metadata": {},
   "outputs": [
    {
     "data": {
      "text/plain": [
       "LogisticRegression()"
      ]
     },
     "execution_count": 40,
     "metadata": {},
     "output_type": "execute_result"
    }
   ],
   "source": [
    "p=df_upsample.iloc[:,:-1]\n",
    "q=df_upsample.iloc[:,-1]\n",
    "P=scale.fit_transform(p)\n",
    "clf1=LogisticRegression()\n",
    "clf1.fit(P,q)"
   ]
  },
  {
   "cell_type": "code",
   "execution_count": 41,
   "id": "79b9fcf1",
   "metadata": {},
   "outputs": [
    {
     "data": {
      "text/plain": [
       "array([[ 0.06829113, -0.30414817,  0.43437048,  0.19037928,  0.06585968,\n",
       "         0.19365779,  0.98380822,  0.83959094,  0.08577291,  0.069908  ,\n",
       "        -0.00985738, -0.14422269,  0.46264436]])"
      ]
     },
     "execution_count": 41,
     "metadata": {},
     "output_type": "execute_result"
    }
   ],
   "source": [
    "clf1.coef_"
   ]
  },
  {
   "cell_type": "code",
   "execution_count": 42,
   "id": "648b90ce",
   "metadata": {},
   "outputs": [
    {
     "data": {
      "text/plain": [
       "0.7649122807017544"
      ]
     },
     "execution_count": 42,
     "metadata": {},
     "output_type": "execute_result"
    }
   ],
   "source": [
    "clf1.score(P,q)"
   ]
  },
  {
   "cell_type": "markdown",
   "id": "8d925ee8",
   "metadata": {},
   "source": [
    "### Thus we can see that the model accuracy is higher in upsampling (76.5%) than downsampling (74.4%)"
   ]
  },
  {
   "cell_type": "code",
   "execution_count": 53,
   "id": "e25f9bf0",
   "metadata": {},
   "outputs": [
    {
     "data": {
      "text/plain": [
       "0     0.068291\n",
       "1    -0.304148\n",
       "2     0.434370\n",
       "3     0.190379\n",
       "4     0.065860\n",
       "5     0.193658\n",
       "6     0.983808\n",
       "7     0.839591\n",
       "8     0.085773\n",
       "9     0.069908\n",
       "10   -0.009857\n",
       "11   -0.144223\n",
       "12    0.462644\n",
       "dtype: float64"
      ]
     },
     "execution_count": 53,
     "metadata": {},
     "output_type": "execute_result"
    }
   ],
   "source": [
    "beta_values = pd.Series(clf1.coef_[0])\n",
    "beta_values"
   ]
  },
  {
   "cell_type": "code",
   "execution_count": 54,
   "id": "1b37c638",
   "metadata": {},
   "outputs": [
    {
     "data": {
      "text/html": [
       "<div>\n",
       "<style scoped>\n",
       "    .dataframe tbody tr th:only-of-type {\n",
       "        vertical-align: middle;\n",
       "    }\n",
       "\n",
       "    .dataframe tbody tr th {\n",
       "        vertical-align: top;\n",
       "    }\n",
       "\n",
       "    .dataframe thead th {\n",
       "        text-align: right;\n",
       "    }\n",
       "</style>\n",
       "<table border=\"1\" class=\"dataframe\">\n",
       "  <thead>\n",
       "    <tr style=\"text-align: right;\">\n",
       "      <th></th>\n",
       "      <th>Variables</th>\n",
       "      <th>beta values</th>\n",
       "    </tr>\n",
       "  </thead>\n",
       "  <tbody>\n",
       "    <tr>\n",
       "      <th>0</th>\n",
       "      <td>account_length</td>\n",
       "      <td>0.068291</td>\n",
       "    </tr>\n",
       "    <tr>\n",
       "      <th>1</th>\n",
       "      <td>voice_mail_messages</td>\n",
       "      <td>-0.304148</td>\n",
       "    </tr>\n",
       "    <tr>\n",
       "      <th>2</th>\n",
       "      <td>day_mins</td>\n",
       "      <td>0.434370</td>\n",
       "    </tr>\n",
       "    <tr>\n",
       "      <th>3</th>\n",
       "      <td>evening_mins</td>\n",
       "      <td>0.190379</td>\n",
       "    </tr>\n",
       "    <tr>\n",
       "      <th>4</th>\n",
       "      <td>night_mins</td>\n",
       "      <td>0.065860</td>\n",
       "    </tr>\n",
       "    <tr>\n",
       "      <th>5</th>\n",
       "      <td>international_mins</td>\n",
       "      <td>0.193658</td>\n",
       "    </tr>\n",
       "    <tr>\n",
       "      <th>6</th>\n",
       "      <td>customer_service_calls</td>\n",
       "      <td>0.983808</td>\n",
       "    </tr>\n",
       "    <tr>\n",
       "      <th>7</th>\n",
       "      <td>international_plan</td>\n",
       "      <td>0.839591</td>\n",
       "    </tr>\n",
       "    <tr>\n",
       "      <th>8</th>\n",
       "      <td>day_calls</td>\n",
       "      <td>0.085773</td>\n",
       "    </tr>\n",
       "    <tr>\n",
       "      <th>9</th>\n",
       "      <td>evening_calls</td>\n",
       "      <td>0.069908</td>\n",
       "    </tr>\n",
       "    <tr>\n",
       "      <th>10</th>\n",
       "      <td>night_calls</td>\n",
       "      <td>-0.009857</td>\n",
       "    </tr>\n",
       "    <tr>\n",
       "      <th>11</th>\n",
       "      <td>international_calls</td>\n",
       "      <td>-0.144223</td>\n",
       "    </tr>\n",
       "    <tr>\n",
       "      <th>12</th>\n",
       "      <td>total_charge</td>\n",
       "      <td>0.462644</td>\n",
       "    </tr>\n",
       "  </tbody>\n",
       "</table>\n",
       "</div>"
      ],
      "text/plain": [
       "                 Variables  beta values\n",
       "0           account_length     0.068291\n",
       "1      voice_mail_messages    -0.304148\n",
       "2                 day_mins     0.434370\n",
       "3             evening_mins     0.190379\n",
       "4               night_mins     0.065860\n",
       "5       international_mins     0.193658\n",
       "6   customer_service_calls     0.983808\n",
       "7       international_plan     0.839591\n",
       "8                day_calls     0.085773\n",
       "9            evening_calls     0.069908\n",
       "10             night_calls    -0.009857\n",
       "11     international_calls    -0.144223\n",
       "12            total_charge     0.462644"
      ]
     },
     "execution_count": 54,
     "metadata": {},
     "output_type": "execute_result"
    }
   ],
   "source": [
    "test2= p.columns\n",
    "frame1= pd.DataFrame(test2, columns=['Variables'])\n",
    "frame1['beta values']=beta_values\n",
    "frame1"
   ]
  },
  {
   "cell_type": "code",
   "execution_count": 55,
   "id": "7afe3fad",
   "metadata": {},
   "outputs": [
    {
     "data": {
      "text/plain": [
       "array([[0.05410599, 0.94589401],\n",
       "       [0.15243543, 0.84756457],\n",
       "       [0.92198589, 0.07801411],\n",
       "       ...,\n",
       "       [0.43826655, 0.56173345],\n",
       "       [0.22112518, 0.77887482],\n",
       "       [0.64611243, 0.35388757]])"
      ]
     },
     "execution_count": 55,
     "metadata": {},
     "output_type": "execute_result"
    }
   ],
   "source": [
    "clf1.predict_proba(P)"
   ]
  },
  {
   "cell_type": "code",
   "execution_count": 56,
   "id": "6091b542",
   "metadata": {},
   "outputs": [],
   "source": [
    "ypred = clf1.predict(P)"
   ]
  },
  {
   "cell_type": "code",
   "execution_count": 57,
   "id": "2eafedaa",
   "metadata": {},
   "outputs": [
    {
     "data": {
      "text/html": [
       "<div>\n",
       "<style scoped>\n",
       "    .dataframe tbody tr th:only-of-type {\n",
       "        vertical-align: middle;\n",
       "    }\n",
       "\n",
       "    .dataframe tbody tr th {\n",
       "        vertical-align: top;\n",
       "    }\n",
       "\n",
       "    .dataframe thead th {\n",
       "        text-align: right;\n",
       "    }\n",
       "</style>\n",
       "<table border=\"1\" class=\"dataframe\">\n",
       "  <thead>\n",
       "    <tr style=\"text-align: right;\">\n",
       "      <th></th>\n",
       "      <th>Actual</th>\n",
       "      <th>Predicted</th>\n",
       "    </tr>\n",
       "  </thead>\n",
       "  <tbody>\n",
       "    <tr>\n",
       "      <th>2614</th>\n",
       "      <td>1</td>\n",
       "      <td>1</td>\n",
       "    </tr>\n",
       "    <tr>\n",
       "      <th>2700</th>\n",
       "      <td>1</td>\n",
       "      <td>1</td>\n",
       "    </tr>\n",
       "    <tr>\n",
       "      <th>2377</th>\n",
       "      <td>1</td>\n",
       "      <td>0</td>\n",
       "    </tr>\n",
       "    <tr>\n",
       "      <th>3287</th>\n",
       "      <td>1</td>\n",
       "      <td>1</td>\n",
       "    </tr>\n",
       "    <tr>\n",
       "      <th>737</th>\n",
       "      <td>1</td>\n",
       "      <td>1</td>\n",
       "    </tr>\n",
       "    <tr>\n",
       "      <th>...</th>\n",
       "      <td>...</td>\n",
       "      <td>...</td>\n",
       "    </tr>\n",
       "    <tr>\n",
       "      <th>3328</th>\n",
       "      <td>0</td>\n",
       "      <td>0</td>\n",
       "    </tr>\n",
       "    <tr>\n",
       "      <th>3329</th>\n",
       "      <td>0</td>\n",
       "      <td>1</td>\n",
       "    </tr>\n",
       "    <tr>\n",
       "      <th>3330</th>\n",
       "      <td>0</td>\n",
       "      <td>1</td>\n",
       "    </tr>\n",
       "    <tr>\n",
       "      <th>3331</th>\n",
       "      <td>0</td>\n",
       "      <td>1</td>\n",
       "    </tr>\n",
       "    <tr>\n",
       "      <th>3332</th>\n",
       "      <td>0</td>\n",
       "      <td>0</td>\n",
       "    </tr>\n",
       "  </tbody>\n",
       "</table>\n",
       "<p>5700 rows × 2 columns</p>\n",
       "</div>"
      ],
      "text/plain": [
       "      Actual  Predicted\n",
       "2614       1          1\n",
       "2700       1          1\n",
       "2377       1          0\n",
       "3287       1          1\n",
       "737        1          1\n",
       "...      ...        ...\n",
       "3328       0          0\n",
       "3329       0          1\n",
       "3330       0          1\n",
       "3331       0          1\n",
       "3332       0          0\n",
       "\n",
       "[5700 rows x 2 columns]"
      ]
     },
     "execution_count": 57,
     "metadata": {},
     "output_type": "execute_result"
    }
   ],
   "source": [
    "table_upsample= pd.DataFrame({'Actual': q, 'Predicted': ypred})\n",
    "table_upsample"
   ]
  },
  {
   "cell_type": "markdown",
   "id": "b716c092",
   "metadata": {},
   "source": [
    "# Confusion matrix for upsampled data"
   ]
  },
  {
   "cell_type": "code",
   "execution_count": 58,
   "id": "170e19e3",
   "metadata": {},
   "outputs": [
    {
     "data": {
      "text/plain": [
       "array([[2195,  655],\n",
       "       [ 685, 2165]], dtype=int64)"
      ]
     },
     "execution_count": 58,
     "metadata": {},
     "output_type": "execute_result"
    }
   ],
   "source": [
    "cm=confusion_matrix(q,ypred)\n",
    "cm"
   ]
  },
  {
   "cell_type": "markdown",
   "id": "3d727710",
   "metadata": {},
   "source": [
    "### Thus, we can see that class balance has improved prediction in upsampled data."
   ]
  },
  {
   "cell_type": "code",
   "execution_count": 59,
   "id": "48aa7dbb",
   "metadata": {},
   "outputs": [],
   "source": [
    "TN=2195\n",
    "TP=2165\n",
    "FP=685\n",
    "FN=655"
   ]
  },
  {
   "cell_type": "markdown",
   "id": "9308688e",
   "metadata": {},
   "source": [
    "# Sensitivity"
   ]
  },
  {
   "cell_type": "code",
   "execution_count": 61,
   "id": "b321a249",
   "metadata": {},
   "outputs": [
    {
     "data": {
      "text/plain": [
       "76.77304964539007"
      ]
     },
     "execution_count": 61,
     "metadata": {},
     "output_type": "execute_result"
    }
   ],
   "source": [
    "sensitivity = (TP/(TP+FN))*100\n",
    "sensitivity"
   ]
  },
  {
   "cell_type": "markdown",
   "id": "8034fff1",
   "metadata": {},
   "source": [
    "# Specificity"
   ]
  },
  {
   "cell_type": "code",
   "execution_count": 62,
   "id": "dc6ed0ab",
   "metadata": {},
   "outputs": [
    {
     "data": {
      "text/plain": [
       "76.21527777777779"
      ]
     },
     "execution_count": 62,
     "metadata": {},
     "output_type": "execute_result"
    }
   ],
   "source": [
    "specificity = (TN/(TN+FP))*100\n",
    "specificity"
   ]
  },
  {
   "cell_type": "markdown",
   "id": "ebfa89b3",
   "metadata": {},
   "source": [
    "# Precision"
   ]
  },
  {
   "cell_type": "code",
   "execution_count": 63,
   "id": "d028cc47",
   "metadata": {},
   "outputs": [
    {
     "data": {
      "text/plain": [
       "75.96491228070175"
      ]
     },
     "execution_count": 63,
     "metadata": {},
     "output_type": "execute_result"
    }
   ],
   "source": [
    "precision = (TP/(TP+FP))*100\n",
    "precision"
   ]
  },
  {
   "cell_type": "markdown",
   "id": "ab6ecc0b",
   "metadata": {},
   "source": [
    "# F Score"
   ]
  },
  {
   "cell_type": "code",
   "execution_count": 64,
   "id": "12b36db8",
   "metadata": {},
   "outputs": [
    {
     "data": {
      "text/plain": [
       "76.3668430335097"
      ]
     },
     "execution_count": 64,
     "metadata": {},
     "output_type": "execute_result"
    }
   ],
   "source": [
    "f_score = (2*precision*sensitivity)/(precision+sensitivity)\n",
    "f_score"
   ]
  },
  {
   "cell_type": "markdown",
   "id": "75c071f7",
   "metadata": {},
   "source": [
    "# Classification report"
   ]
  },
  {
   "cell_type": "code",
   "execution_count": 66,
   "id": "5b3df8b2",
   "metadata": {},
   "outputs": [
    {
     "name": "stdout",
     "output_type": "stream",
     "text": [
      "              precision    recall  f1-score   support\n",
      "\n",
      "           0       0.76      0.77      0.77      2850\n",
      "           1       0.77      0.76      0.76      2850\n",
      "\n",
      "    accuracy                           0.76      5700\n",
      "   macro avg       0.76      0.76      0.76      5700\n",
      "weighted avg       0.76      0.76      0.76      5700\n",
      "\n"
     ]
    }
   ],
   "source": [
    "from sklearn.metrics import classification_report\n",
    "print(classification_report(q,ypred))"
   ]
  },
  {
   "cell_type": "markdown",
   "id": "79be1b3e",
   "metadata": {},
   "source": [
    "# ROC curve"
   ]
  },
  {
   "cell_type": "code",
   "execution_count": 67,
   "id": "7a419618",
   "metadata": {},
   "outputs": [],
   "source": [
    "from sklearn.metrics import roc_curve\n",
    "from sklearn.metrics import roc_auc_score"
   ]
  },
  {
   "cell_type": "code",
   "execution_count": 69,
   "id": "7e23f398",
   "metadata": {},
   "outputs": [
    {
     "name": "stdout",
     "output_type": "stream",
     "text": [
      "0.7649122807017543\n"
     ]
    },
    {
     "data": {
      "text/plain": [
       "Text(0, 0.5, 'True Positive Rate')"
      ]
     },
     "execution_count": 69,
     "metadata": {},
     "output_type": "execute_result"
    },
    {
     "data": {
      "image/png": "[encoded data removed]",
      "text/plain": [
       "<Figure size 432x288 with 1 Axes>"
      ]
     },
     "metadata": {
      "needs_background": "light"
     },
     "output_type": "display_data"
    }
   ],
   "source": [
    "fpr,tpr, thresholds = roc_curve(q,classifier.predict_proba(P)[:,1])\n",
    "\n",
    "auc= roc_auc_score(q,ypred)\n",
    "print(auc)\n",
    "\n",
    "import matplotlib.pyplot as plt\n",
    "plt.plot(fpr,tpr, color='red', label = 'logit model (area=%0.2f)'%auc)\n",
    "plt.plot([0,1],[0,1], 'k--')\n",
    "plt.xlabel('False positive rate or [1-True negative rate]')\n",
    "plt.ylabel('True Positive Rate')"
   ]
  },
  {
   "cell_type": "markdown",
   "id": "6de2f216",
   "metadata": {},
   "source": [
    "# Applying ensemble technique to improve accuracy further"
   ]
  },
  {
   "cell_type": "code",
   "execution_count": 72,
   "id": "12692ddd",
   "metadata": {},
   "outputs": [],
   "source": [
    "from sklearn.model_selection import KFold\n",
    "from sklearn.model_selection import cross_val_score\n",
    "from sklearn.ensemble import AdaBoostClassifier\n",
    "from sklearn.ensemble import RandomForestClassifier"
   ]
  },
  {
   "cell_type": "code",
   "execution_count": 71,
   "id": "3e0d5c38",
   "metadata": {},
   "outputs": [
    {
     "name": "stdout",
     "output_type": "stream",
     "text": [
      "0.8721052631578947\n"
     ]
    }
   ],
   "source": [
    "# AdaBoost Classifier\n",
    "kfold=KFold(n_splits=10,random_state=123, shuffle=True)\n",
    "model= AdaBoostClassifier(n_estimators=10, random_state=123)\n",
    "score= cross_val_score(model,P,q, cv=kfold)\n",
    "print(score.mean())"
   ]
  },
  {
   "cell_type": "code",
   "execution_count": 73,
   "id": "dc12b366",
   "metadata": {},
   "outputs": [
    {
     "name": "stdout",
     "output_type": "stream",
     "text": [
      "0.9985964912280701\n"
     ]
    }
   ],
   "source": [
    "# Random Forest Classifier\n",
    "kfold=KFold(n_splits=10, random_state=123,shuffle=True)\n",
    "model=RandomForestClassifier(n_estimators=100, max_features=3)\n",
    "score=cross_val_score(model,P,q, cv=kfold)\n",
    "print(score.mean())"
   ]
  },
  {
   "cell_type": "markdown",
   "id": "d3d7a3ee",
   "metadata": {},
   "source": [
    "# Hence, we get an accuracy of 99.85% by applying random forest classifier on logistic regression"
   ]
  },
  {
   "cell_type": "code",
   "execution_count": null,
   "id": "3423d598",
   "metadata": {},
   "outputs": [],
   "source": []
  }
 ],
 "metadata": {
  "kernelspec": {
   "display_name": "Python 3 (ipykernel)",
   "language": "python",
   "name": "python3"
  },
  "language_info": {
   "codemirror_mode": {
    "name": "ipython",
    "version": 3
   },
   "file_extension": ".py",
   "mimetype": "text/x-python",
   "name": "python",
   "nbconvert_exporter": "python",
   "pygments_lexer": "ipython3",
   "version": "3.9.7"
  }
 },
 "nbformat": 4,
 "nbformat_minor": 5
}
